{
  "nbformat": 4,
  "nbformat_minor": 0,
  "metadata": {
    "colab": {
      "provenance": [],
      "gpuType": "T4"
    },
    "kernelspec": {
      "name": "python3",
      "display_name": "Python 3"
    },
    "language_info": {
      "name": "python"
    },
    "accelerator": "GPU"
  },
  "cells": [
    {
      "cell_type": "code",
      "execution_count": null,
      "metadata": {
        "id": "tScu6NwhAiS1"
      },
      "outputs": [],
      "source": [
        "#cài đặt thư viện\n",
        "!pip install -q lightning"
      ]
    },
    {
      "cell_type": "code",
      "source": [
        "#download dataset\n",
        "#!wget https://raw.githubusercontent.com/mwaskom/seaborn-data/master/iris.csv\n",
        "!gdown 1aXs9anuFLEOO2iQ9mUYDOkni04v_Fy9J"
      ],
      "metadata": {
        "id": "NOkD5DR5BTbQ"
      },
      "execution_count": null,
      "outputs": []
    },
    {
      "cell_type": "code",
      "source": [
        "import lightning as L\n",
        "import torch\n",
        "import pandas as pd\n",
        "from sklearn.model_selection import train_test_split\n",
        "from sklearn.preprocessing import StandardScaler\n",
        "from sklearn.preprocessing import OneHotEncoder\n",
        "from torchmetrics import Accuracy\n",
        "from sklearn.preprocessing import StandardScaler"
      ],
      "metadata": {
        "id": "NA7Kj3jjAsWz"
      },
      "execution_count": null,
      "outputs": []
    },
    {
      "cell_type": "code",
      "source": [
        "#read dataset\n",
        "data = pd.read_csv(\"/content/iris.csv\")\n",
        "data.head()"
      ],
      "metadata": {
        "id": "C3i5sDNQAvzr"
      },
      "execution_count": null,
      "outputs": []
    },
    {
      "cell_type": "markdown",
      "source": [
        "Iris là dataset nhận dạng loại hoa từ 4 features bao gồm sepal.length, sepal.widt, petal.length, và petal.width"
      ],
      "metadata": {
        "id": "jml0pFjYg0Pq"
      }
    },
    {
      "cell_type": "code",
      "source": [
        "#encode cho label\n",
        "labels = {}\n",
        "for index, element in enumerate(data[\"variety\"].unique()):\n",
        "  labels[element] = index\n",
        "\n",
        "data.loc[:, \"labels\"] = data[\"variety\"].apply(lambda x: labels[x])\n",
        "data.head()"
      ],
      "metadata": {
        "id": "_FS_YqQegcWO"
      },
      "execution_count": null,
      "outputs": []
    },
    {
      "cell_type": "code",
      "source": [
        "# Tạo class Dataset để đọc dữ liệu\n",
        "COLUMNS = data.drop(['variety', \"labels\"], axis=1).columns.to_list()  # Lấy danh sách các cột không bao gồm 'variety' và 'labels'\n",
        "\n",
        "class DataSet(torch.utils.data.Dataset):\n",
        "    def __init__(self, data, normalizer, columns=COLUMNS):\n",
        "        super(DataSet, self).__init__()  # Khởi tạo lớp cha\n",
        "        self.data = data  # Lưu trữ dữ liệu đầu vào\n",
        "        self.feature = normalizer.transform(self.data[columns].values)  # Chuẩn hóa các đặc trưng\n",
        "        self.feature = torch.tensor(self.feature).float()  # Chuyển đổi các đặc trưng thành tensor kiểu float\n",
        "        self.label = torch.tensor(self.data[\"labels\"].values)  # Chuyển đổi nhãn thành tensor\n",
        "\n",
        "    def __len__(self):\n",
        "        return len(self.feature)  # Trả về số lượng mẫu trong dataset\n",
        "\n",
        "    def __getitem__(self, idx):\n",
        "        # Trả về một từ điển chứa đặc trưng và nhãn tại chỉ số idx\n",
        "        return {\"feature\": self.feature[idx],\n",
        "                \"label\": self.label[idx]}\n"
      ],
      "metadata": {
        "id": "aYqgPN7CBo0s"
      },
      "execution_count": null,
      "outputs": []
    },
    {
      "cell_type": "code",
      "source": [
        "# Chia và chuẩn hóa dataset\n",
        "\n",
        "BATCH_SIZE = 128  # Kích thước batch cho DataLoader\n",
        "# Chia dữ liệu thành tập huấn luyện và tập kiểm tra (80% - 20%)\n",
        "train_data, test_data = train_test_split(data, test_size=0.2, random_state=0)\n",
        "# Chia tập huấn luyện thành tập kiểm tra và tập val (60% train, 20% test 20% val)\n",
        "test_data, val_data = train_test_split(train_data, test_size=0.25, random_state=0)\n",
        "\n",
        "# Khởi tạo StandardScaler để chuẩn hóa dữ liệu\n",
        "normalizer = StandardScaler()\n",
        "# Tính toán các tham số chuẩn hóa dựa trên tập huấn luyện\n",
        "normalizer.fit(train_data[COLUMNS].values)\n",
        "\n",
        "# Tạo DataLoader cho tập huấn luyện, cho phép trộn và sử dụng nhiều workers\n",
        "train_loader = torch.utils.data.DataLoader(DataSet(train_data, normalizer), batch_size=BATCH_SIZE,\n",
        "                                           shuffle=True, num_workers=2)\n",
        "\n",
        "# Tạo DataLoader cho tập val\n",
        "val_loader = torch.utils.data.DataLoader(DataSet(val_data, normalizer), batch_size=BATCH_SIZE, num_workers=2)\n",
        "\n",
        "# Tạo DataLoader cho tập kiểm tra\n",
        "test_loader = torch.utils.data.DataLoader(DataSet(test_data, normalizer), batch_size=BATCH_SIZE, num_workers=2)\n",
        "\n",
        "# Lấy một batch dữ liệu từ train_loader\n",
        "data_loader = next(iter(train_loader))\n",
        "# In ra kích thước của các đặc trưng trong batch\n",
        "print(len(data_loader[\"feature\"]))\n",
        "# In ra kích thước của các nhãn trong batch\n",
        "print(len(data_loader[\"label\"]))\n",
        "# In ra các đặc trưng và nhãn (bình luận lại để không in ra)\n",
        "#print(data_loader[\"feature\"], \"\\n\", data_loader[\"label\"])\n"
      ],
      "metadata": {
        "id": "UPzcSGsIv3Mz"
      },
      "execution_count": null,
      "outputs": []
    },
    {
      "cell_type": "code",
      "source": [
        "# Tạo model\n",
        "class Model(L.LightningModule):\n",
        "    def __init__(self, num_classes=len(labels), learning_rate=5e-3, input_dim=len(COLUMNS)):\n",
        "        super(Model, self).__init__()  # Khởi tạo lớp cha\n",
        "        self.learning_rate = learning_rate  # Lưu trữ learning rate\n",
        "        # Tạo mô hình MLP với các lớp tuyến tính và hàm kích hoạt ReLU\n",
        "        self.mlp = torch.nn.Sequential(\n",
        "            torch.nn.Linear(input_dim, 64),  # Lớp đầu vào với kích thước input_dim và đầu ra 64\n",
        "            torch.nn.ReLU(),                  # Hàm kích hoạt ReLU\n",
        "            torch.nn.Linear(64, 32),          # Lớp tiếp theo với đầu vào 64 và đầu ra 32\n",
        "            torch.nn.ReLU(),                  # Hàm kích hoạt ReLU\n",
        "            torch.nn.Linear(32, num_classes), # Lớp đầu ra với đầu vào 32 và đầu ra số lớp\n",
        "        )\n",
        "\n",
        "    def forward(self, x):\n",
        "        return self.mlp(x)  # Thực hiện phép biến đổi thông qua mô hình MLP\n",
        "\n",
        "    def training_step(self, batch, batch_idx):\n",
        "        x = batch[\"feature\"]  # Lấy đặc trưng từ batch\n",
        "        y = batch[\"label\"]    # Lấy nhãn từ batch\n",
        "        y_pred = self(x)      # Dự đoán nhãn bằng mô hình\n",
        "        # Tính toán loss bằng hàm CrossEntropy\n",
        "        loss = torch.nn.CrossEntropyLoss()(y_pred, y)\n",
        "        self.log('train_loss', loss, prog_bar=True)  # Ghi lại loss huấn luyện để hiển thị\n",
        "\n",
        "        # Tính độ chính xác\n",
        "        acc = (y_pred.argmax(dim=1) == y).float().mean()  # Tính accuracy\n",
        "        self.log('train_acc', acc, prog_bar=True)  # Ghi lại độ chính xác huấn luyện\n",
        "\n",
        "        return loss # Trả về loss\n",
        "\n",
        "    def validation_step(self, batch, batch_idx):\n",
        "        x = batch[\"feature\"]  # Lấy đặc trưng từ batch\n",
        "        y = batch[\"label\"]    # Lấy nhãn từ batch\n",
        "        y_pred = self(x)      # Dự đoán nhãn bằng mô hình\n",
        "        # Tính toán loss cho tập val\n",
        "        val_loss = torch.nn.CrossEntropyLoss()(y_pred, y)\n",
        "        self.log('val_loss', val_loss, prog_bar=True)  # Ghi lại loss val để hiển thị\n",
        "        # Tính độ chính xác\n",
        "        val_acc = (y_pred.argmax(dim=1) == y).float().mean()  # Tính accuracy\n",
        "        self.log('val_acc', val_acc, prog_bar=True)  # Ghi lại độ chính xác huấn luyện\n",
        "\n",
        "        return val_loss # Trả về loss val\n",
        "\n",
        "    def configure_optimizers(self):\n",
        "        # Khởi tạo optimizer Adam với learning rate đã định\n",
        "        optimizer = torch.optim.Adam(self.parameters(), lr=self.learning_rate)\n",
        "        return optimizer  # Trả về optimizer\n"
      ],
      "metadata": {
        "id": "fMOzTMAJ2JkE"
      },
      "execution_count": null,
      "outputs": []
    },
    {
      "cell_type": "code",
      "source": [
        "# Train model\n",
        "model = Model()  # Khởi tạo một thể hiện của mô hình\n",
        "\n",
        "# Tạo Trainer từ PyTorch Lightning với số epoch tối đa là 100 và kích hoạt tính năng phát hiện bất thường\n",
        "trainer = L.Trainer(max_epochs=100, detect_anomaly=True)\n",
        "\n",
        "# Bắt đầu quá trình huấn luyện mô hình với dữ liệu huấn luyện và val\n",
        "trainer.fit(model, train_loader, val_loader)\n"
      ],
      "metadata": {
        "id": "Nlsq8b933_EI"
      },
      "execution_count": null,
      "outputs": []
    },
    {
      "cell_type": "code",
      "source": [
        "trainer.validate(model, test_loader)"
      ],
      "metadata": {
        "id": "O2S9H7yqY5Au"
      },
      "execution_count": null,
      "outputs": []
    },
    {
      "cell_type": "markdown",
      "source": [
        "#Bài tập"
      ],
      "metadata": {
        "id": "bpQ4ukjshYyw"
      }
    },
    {
      "cell_type": "markdown",
      "source": [
        "Hãy thêm def test_step vào class Model, tiến hành huấn luyện model với batch size là 256, lr là 5e-4, epochs là 50.\n",
        "\n",
        "Form: https://forms.gle/FHVtVDXnjYBSBGEC6\n"
      ],
      "metadata": {
        "id": "T5SzmE-PhaVs"
      }
    },
    {
      "cell_type": "code",
      "source": [],
      "metadata": {
        "id": "lqhA-mo5uMSp"
      },
      "execution_count": null,
      "outputs": []
    }
  ]
}